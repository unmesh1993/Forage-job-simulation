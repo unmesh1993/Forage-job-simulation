{
 "cells": [
  {
   "cell_type": "code",
   "execution_count": null,
   "id": "61018c60-66da-4038-8687-66db8721a9bd",
   "metadata": {},
   "outputs": [],
   "source": [
    "#module imports\n",
    "import pandas as pd\n",
    "import numpy as np\n",
    "import matplotlib.pyplot as plt\n",
    "\n",
    "#SKLEARN\n",
    "from sklearn.model_selection import train_test_split\n",
    "\n",
    "#\n",
    "from sklearn.ensemble import RandomForestRegressor\n",
    "from sklearn.metrics import mean_squared_error, r2_score"
   ]
  },
  {
   "cell_type": "code",
   "execution_count": null,
   "id": "0a9df7bf-2262-4281-b7ae-c59a6e56b50e",
   "metadata": {},
   "outputs": [],
   "source": [
    "filepath = \"./Nat_Gas.csv\"\n",
    "data = pd.read_csv(filepath)\n",
    "print ('shape of data: ',data.shape)\n",
    "data.head()"
   ]
  },
  {
   "cell_type": "code",
   "execution_count": null,
   "id": "a5a43c80-1016-46b1-b55d-4eb331f8af6f",
   "metadata": {},
   "outputs": [],
   "source": [
    "#plotting\n",
    "headers = data.columns.tolist()\n",
    "\n",
    "#plotting\n",
    "#ax=data.plot(x=headers[0], y=[headers[1]], kind='line', title='Monthly price values')\n",
    "\n",
    "ax=plt.plot(data[headers[0]], data[headers[1]], color='blue', linestyle='-', linewidth=1)\n",
    "ax=plt.scatter(data[headers[0]], data[headers[1]], color='red', marker='o', s=50)\n",
    "\n",
    "plt.xlabel('Dates')\n",
    "plt.ylabel('Prices')\n",
    "plt.title('Monthly price values')\n",
    "plt.xticks(size=5, rotation=90)\n",
    "plt.tight_layout()\n",
    "plt.grid(True)\n",
    "plt.show()"
   ]
  },
  {
   "cell_type": "code",
   "execution_count": null,
   "id": "bd525050-24b2-4b2f-a395-853b2da26980",
   "metadata": {},
   "outputs": [],
   "source": [
    "#Convert the date column to datetime and  Replace 'Dates' with the name of your date column that is 'Dates'\n",
    "data[headers[0]] = pd.to_datetime(data[headers[0]])\n",
    "\n",
    "# Step 2: Feature Engineering\n",
    "data['year'] = data['Dates'].dt.year\n",
    "data['month'] = data['Dates'].dt.month\n",
    "data['day'] = data['Dates'].dt.day\n",
    "data['day_of_year'] = data['Dates'].dt.dayofyear\n",
    "\n",
    "data.head()"
   ]
  },
  {
   "cell_type": "code",
   "execution_count": null,
   "id": "42679ae0-a5f0-427d-81d1-85d66ff22dfa",
   "metadata": {},
   "outputs": [],
   "source": [
    "# Data : Features and Target\n",
    "X=data.iloc[:,2:4]\n",
    "Y=data.iloc[:,1]"
   ]
  },
  {
   "cell_type": "code",
   "execution_count": null,
   "id": "862e15b6-ad08-46aa-b3e3-b169ac639c8f",
   "metadata": {},
   "outputs": [],
   "source": [
    "#Train-Test split\n",
    "X_train, X_test, y_train, y_test = train_test_split(X, Y, test_size=0.2, random_state=40)"
   ]
  },
  {
   "cell_type": "code",
   "execution_count": null,
   "id": "6cca1ce0-c4d5-4159-aaea-e1bd07166eeb",
   "metadata": {},
   "outputs": [],
   "source": [
    "# Fit with Random Forest Regressor\n",
    "model = RandomForestRegressor(n_estimators=100, random_state=42)\n",
    "\n",
    "model.fit(X_train, y_train)"
   ]
  },
  {
   "cell_type": "code",
   "execution_count": null,
   "id": "1b9b10ea-0ef8-4f6e-a443-6d6cb55934cf",
   "metadata": {},
   "outputs": [],
   "source": [
    "#Make predictions\n",
    "y_pred = model.predict(X_test)"
   ]
  },
  {
   "cell_type": "code",
   "execution_count": null,
   "id": "56c861e6-ee9c-4042-a86d-480cb79246ec",
   "metadata": {},
   "outputs": [],
   "source": [
    "#Visualization\n",
    "data['predicted'] = model.predict(X)  # Predictions on full dataset\n",
    "\n",
    "plt.figure(figsize=(12, 6))\n",
    "plt.plot(data[headers[0]], data[headers[1]], label='Actual', alpha=0.7)\n",
    "plt.plot(data[headers[0]], data['predicted'], label='Predicted', alpha=0.7)\n",
    "plt.title('Seasonal Pattern: Actual vs Predicted')\n",
    "plt.xlabel('Dates')\n",
    "plt.ylabel('Prices')\n",
    "plt.legend()\n",
    "plt.show()"
   ]
  },
  {
   "cell_type": "code",
   "execution_count": null,
   "id": "902011c4-63bb-47de-80b1-f4b09e3a15b1",
   "metadata": {},
   "outputs": [],
   "source": [
    "#Evaluating the model\n",
    "mse = mean_squared_error(y_test, y_pred)\n",
    "r2 = r2_score(y_test, y_pred)\n",
    "print(f\"Mean Squared Error: {mse:.3f}\")\n",
    "print(f\"R^2 Score: {r2:.3f}\")"
   ]
  },
  {
   "cell_type": "code",
   "execution_count": null,
   "id": "136ac2eb-4871-4a20-9220-0ea792e286e9",
   "metadata": {},
   "outputs": [],
   "source": [
    "dates_input = input(\"Enter dates in YYYY-MM-DD format separated by commas: \")\n",
    "date_in = pd.to_datetime(dates_input.split(\",\"))\n",
    "X_unseen = pd.DataFrame({'Dates': date_in})\n",
    "\n",
    "#Feature Engineering\n",
    "X_unseen['year'] = X_unseen['Dates'].dt.year\n",
    "X_unseen['month'] = X_unseen['Dates'].dt.month\n",
    "X_unseen['day'] = X_unseen['Dates'].dt.day\n",
    "X_unseen['day_of_year'] = X_unseen['Dates'].dt.dayofyear\n",
    "\n",
    "\n",
    "#Make predictions\n",
    "X_new=X_unseen.iloc[:,1:3]\n",
    "X_unseen['predicted'] = model.predict(X_new)  # Predictions on new dataset\n",
    "\n",
    "print ('Price at ', dates_input,' is', X_unseen['predicted'].iloc[0])"
   ]
  },
  {
   "cell_type": "code",
   "execution_count": null,
   "id": "a47607b7-2d2a-4a0d-95e7-66798ef89375",
   "metadata": {},
   "outputs": [],
   "source": [
    "d_injection = input(\"Enter injection date in YYYY-MM-DD format separated by -: \")\n",
    "d_withdrawl = input(\"Enter withdrawl date in YYYY-MM-DD format separated by -: \")\n",
    "\n",
    "d_both=[d_injection, d_withdrawl]\n",
    "\n",
    "X_unseen = pd.DataFrame({'Dates': d_both})\n",
    "#Convert the date column to datetime and  Replace 'Dates' with the name of your date column that is 'Dates'\n",
    "X_unseen[headers[0]] = pd.to_datetime(X_unseen[headers[0]])\n",
    "\n",
    "\n",
    "print (X_unseen.head())\n",
    "\n",
    "#Feature Engineering\n",
    "X_unseen['year'] = X_unseen['Dates'].dt.year\n",
    "X_unseen['month'] = X_unseen['Dates'].dt.month\n",
    "X_unseen['day'] = X_unseen['Dates'].dt.day\n",
    "X_unseen['day_of_year'] = X_unseen['Dates'].dt.dayofyear\n",
    "\n",
    "\n",
    "#Make predictions\n",
    "X_new=X_unseen.iloc[:,1:]\n",
    "\n",
    "#Visualization\n",
    "X_unseen['predicted'] = model.predict(X_new)  # Predictions on new dataset\n",
    "\n",
    "price_injection = X_unseen['predicted'].iloc[0]\n",
    "price_withdrawl = X_unseen['predicted'].iloc[1]\n",
    "\n",
    "print ('Price at ', d_both,' is', X_unseen['predicted'])\n",
    "\n",
    "max_volume = input(\"Enter maximum volume of natural gas that can be stored in million MMBtu: \")\n",
    "rate_movement = input(\"Enter injection/withdrawl date in terms of dollars per 1 million MMBtu: \")\n",
    "storage_cost = input(\"Enter storage cost of the natural gas per month: \")\n",
    "\n",
    "\n",
    "contract_price = price_withdrawl - ( price_injection + rate_movement * max_volume + storage_cost * np.abs(X_unseen['month'].iloc[0] - X_unseen['month'].iloc[0]) )\n",
    "print ('The contract price is: ', contract_price)\n"
   ]
  },
  {
   "cell_type": "code",
   "execution_count": null,
   "id": "1d219763-51dd-4068-bb56-a208ec98db15",
   "metadata": {},
   "outputs": [],
   "source": []
  },
  {
   "cell_type": "code",
   "execution_count": null,
   "id": "cdb077da-04a7-47ae-8559-2affc4b8167d",
   "metadata": {},
   "outputs": [],
   "source": []
  },
  {
   "cell_type": "code",
   "execution_count": null,
   "id": "13292ca9-fb7c-4461-ab26-9fd4a4e8428f",
   "metadata": {},
   "outputs": [],
   "source": []
  }
 ],
 "metadata": {
  "kernelspec": {
   "display_name": "Python [conda env:base] *",
   "language": "python",
   "name": "conda-base-py"
  },
  "language_info": {
   "codemirror_mode": {
    "name": "ipython",
    "version": 3
   },
   "file_extension": ".py",
   "mimetype": "text/x-python",
   "name": "python",
   "nbconvert_exporter": "python",
   "pygments_lexer": "ipython3",
   "version": "3.12.7"
  }
 },
 "nbformat": 4,
 "nbformat_minor": 5
}
