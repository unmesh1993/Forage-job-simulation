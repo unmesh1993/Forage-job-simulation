{
 "cells": [
  {
   "cell_type": "code",
   "execution_count": 3,
   "id": "599057ae-966a-4716-811d-d498c677d44f",
   "metadata": {},
   "outputs": [],
   "source": [
    "#module imports\n",
    "import pandas as pd\n",
    "import numpy as np\n",
    "import matplotlib.pyplot as plt\n",
    "\n",
    "#SKLEARN\n",
    "from sklearn.model_selection import train_test_split\n",
    "\n",
    "#\n",
    "from sklearn.ensemble import RandomForestRegressor\n",
    "from sklearn.metrics import mean_squared_error, r2_score\n",
    "\n",
    "#\n",
    "from sklearn.linear_model import LinearRegression\n",
    "from sklearn.preprocessing import PolynomialFeatures\n",
    "\n",
    "#\n",
    "from sklearn.svm import SVC\n",
    "from sklearn.metrics import classification_report, accuracy_score, confusion_matrix, roc_curve, auc, precision_recall_curve\n",
    "\n",
    "#\n",
    "from sklearn.cluster import KMeans\n",
    "\n",
    "#\n",
    "from sklearn.mixture import GaussianMixture"
   ]
  },
  {
   "cell_type": "code",
   "execution_count": 5,
   "id": "fbca4c8b-932c-4c5a-a72f-ecc63c1d5b2a",
   "metadata": {},
   "outputs": [
    {
     "name": "stdout",
     "output_type": "stream",
     "text": [
      "shape of data:  (10000, 8)\n"
     ]
    },
    {
     "data": {
      "text/html": [
       "<div>\n",
       "<style scoped>\n",
       "    .dataframe tbody tr th:only-of-type {\n",
       "        vertical-align: middle;\n",
       "    }\n",
       "\n",
       "    .dataframe tbody tr th {\n",
       "        vertical-align: top;\n",
       "    }\n",
       "\n",
       "    .dataframe thead th {\n",
       "        text-align: right;\n",
       "    }\n",
       "</style>\n",
       "<table border=\"1\" class=\"dataframe\">\n",
       "  <thead>\n",
       "    <tr style=\"text-align: right;\">\n",
       "      <th></th>\n",
       "      <th>customer_id</th>\n",
       "      <th>credit_lines_outstanding</th>\n",
       "      <th>loan_amt_outstanding</th>\n",
       "      <th>total_debt_outstanding</th>\n",
       "      <th>income</th>\n",
       "      <th>years_employed</th>\n",
       "      <th>fico_score</th>\n",
       "      <th>default</th>\n",
       "    </tr>\n",
       "  </thead>\n",
       "  <tbody>\n",
       "    <tr>\n",
       "      <th>0</th>\n",
       "      <td>8153374</td>\n",
       "      <td>0</td>\n",
       "      <td>5221.545193</td>\n",
       "      <td>3915.471226</td>\n",
       "      <td>78039.38546</td>\n",
       "      <td>5</td>\n",
       "      <td>605</td>\n",
       "      <td>0</td>\n",
       "    </tr>\n",
       "    <tr>\n",
       "      <th>1</th>\n",
       "      <td>7442532</td>\n",
       "      <td>5</td>\n",
       "      <td>1958.928726</td>\n",
       "      <td>8228.752520</td>\n",
       "      <td>26648.43525</td>\n",
       "      <td>2</td>\n",
       "      <td>572</td>\n",
       "      <td>1</td>\n",
       "    </tr>\n",
       "    <tr>\n",
       "      <th>2</th>\n",
       "      <td>2256073</td>\n",
       "      <td>0</td>\n",
       "      <td>3363.009259</td>\n",
       "      <td>2027.830850</td>\n",
       "      <td>65866.71246</td>\n",
       "      <td>4</td>\n",
       "      <td>602</td>\n",
       "      <td>0</td>\n",
       "    </tr>\n",
       "    <tr>\n",
       "      <th>3</th>\n",
       "      <td>4885975</td>\n",
       "      <td>0</td>\n",
       "      <td>4766.648001</td>\n",
       "      <td>2501.730397</td>\n",
       "      <td>74356.88347</td>\n",
       "      <td>5</td>\n",
       "      <td>612</td>\n",
       "      <td>0</td>\n",
       "    </tr>\n",
       "    <tr>\n",
       "      <th>4</th>\n",
       "      <td>4700614</td>\n",
       "      <td>1</td>\n",
       "      <td>1345.827718</td>\n",
       "      <td>1768.826187</td>\n",
       "      <td>23448.32631</td>\n",
       "      <td>6</td>\n",
       "      <td>631</td>\n",
       "      <td>0</td>\n",
       "    </tr>\n",
       "  </tbody>\n",
       "</table>\n",
       "</div>"
      ],
      "text/plain": [
       "   customer_id  credit_lines_outstanding  loan_amt_outstanding  \\\n",
       "0      8153374                         0           5221.545193   \n",
       "1      7442532                         5           1958.928726   \n",
       "2      2256073                         0           3363.009259   \n",
       "3      4885975                         0           4766.648001   \n",
       "4      4700614                         1           1345.827718   \n",
       "\n",
       "   total_debt_outstanding       income  years_employed  fico_score  default  \n",
       "0             3915.471226  78039.38546               5         605        0  \n",
       "1             8228.752520  26648.43525               2         572        1  \n",
       "2             2027.830850  65866.71246               4         602        0  \n",
       "3             2501.730397  74356.88347               5         612        0  \n",
       "4             1768.826187  23448.32631               6         631        0  "
      ]
     },
     "execution_count": 5,
     "metadata": {},
     "output_type": "execute_result"
    }
   ],
   "source": [
    "filepath = \"./Task 3 and 4_Loan_Data.csv\"\n",
    "data = pd.read_csv(filepath)\n",
    "print ('shape of data: ',data.shape)\n",
    "data.head()"
   ]
  },
  {
   "cell_type": "code",
   "execution_count": 7,
   "id": "5b06f517-8da9-4a60-b468-991d6082c9e1",
   "metadata": {},
   "outputs": [
    {
     "data": {
      "image/png": "[encoded data removed]",
      "text/plain": [
       "<Figure size 640x480 with 2 Axes>"
      ]
     },
     "metadata": {},
     "output_type": "display_data"
    }
   ],
   "source": [
    "data2 = data.copy()           # Create a copy of the original DataFrame\n",
    "data = data2[['fico_score']]\n",
    "\n",
    "headers = data.columns.tolist()\n",
    "#PLOTTING\n",
    "\n",
    "for i in range(len(headers)):\n",
    "  fig, axes = plt.subplots(1, 2)\n",
    "\n",
    "  axes[0].hist(data[headers[i]], bins=30, color='blue', edgecolor='black', alpha=0.7)\n",
    "  axes[0].set_title(headers[i])\n",
    "  axes[0].set_xlabel(headers[i])\n",
    "  axes[0].set_ylabel(\"Frequency\")\n",
    "\n",
    "  axes[0].grid(axis='y', alpha=0.75)\n",
    "  axes[0].tick_params(size=10, rotation=90)\n",
    "\n",
    "\n",
    "\n",
    "  axes[1].scatter(data[headers[i]], data[headers[-1]], color='red', marker='o', s=10)\n",
    "  axes[1].set_xlabel(headers[i])\n",
    "  axes[1].set_ylabel('Defaults')\n",
    "\n",
    "  axes[1].grid(axis='y', alpha=0.75)\n",
    "  axes[1].tick_params(size=10, rotation=90)\n",
    "\n",
    "  fig.tight_layout()\n",
    "\n"
   ]
  },
  {
   "cell_type": "code",
   "execution_count": 9,
   "id": "f658271f-549e-44ef-9b53-3e8fabaebedc",
   "metadata": {},
   "outputs": [
    {
     "data": {
      "text/plain": [
       "Text(0, 0.5, 'SSE')"
      ]
     },
     "execution_count": 9,
     "metadata": {},
     "output_type": "execute_result"
    },
    {
     "data": {
      "image/png": "[encoded data removed]",
      "text/plain": [
       "<Figure size 640x480 with 1 Axes>"
      ]
     },
     "metadata": {},
     "output_type": "display_data"
    }
   ],
   "source": [
    "#kmeans clustering\n",
    "X = data['fico_score'].values.reshape(-1, 1)\n",
    "sse=[]\n",
    "for i in range(1,11):\n",
    "  kmeans = KMeans(n_clusters=i, random_state=42).fit(X)\n",
    "  # Compute SSE (inertia_)\n",
    "  sse.append(kmeans.inertia_)\n",
    "\n",
    "sse=np.array(sse,float)\n",
    "#plt.plot(range(1,11), sse, marker='o')\n",
    "plt.plot(range(1,10), np.diff(sse, n=1), marker='o')\n",
    "plt.xlabel('Number of Clusters')\n",
    "plt.ylabel('SSE')\n"
   ]
  },
  {
   "cell_type": "code",
   "execution_count": 11,
   "id": "ca34a3f4-9b55-4a3a-a6fd-6650b9c6e735",
   "metadata": {},
   "outputs": [
    {
     "name": "stdout",
     "output_type": "stream",
     "text": [
      "[0, 547.1626055399204, 598.5959732058461, 640.0976868476866, 680.2713111128785, 727.2448388928581, 900]\n"
     ]
    }
   ],
   "source": [
    "n_buckets=6\n",
    "\n",
    "kmeans = KMeans(n_clusters=n_buckets, random_state=42).fit(X)\n",
    "#data['Cluster_Label'] = kmeans.fit_predict(X)\n",
    "\n",
    "#extract and sort cluster centers\n",
    "sorted_centers = np.sort(kmeans.cluster_centers_.flatten())\n",
    "\n",
    "#calculate boundaries (midpoints between sorted cluster centers)\n",
    "boundaries = [(sorted_centers[i] + sorted_centers[i+1]) / 2 for i in range(len(sorted_centers) - 1)]\n",
    "\n",
    "#add minimum and maximum boundaries for full coverage\n",
    "boundaries = [0] + boundaries + [900]\n",
    "\n",
    "print (boundaries)\n"
   ]
  },
  {
   "cell_type": "code",
   "execution_count": 13,
   "id": "025081d2-a2c4-4434-aff7-d816495ea6de",
   "metadata": {},
   "outputs": [
    {
     "name": "stdout",
     "output_type": "stream",
     "text": [
      "[  0.         552.93578451 600.09473658 640.25611169 679.38032379\n",
      " 722.06672083 900.        ]\n"
     ]
    }
   ],
   "source": [
    "n_buckets=6\n",
    "# Fit Gaussian Mixture Model\n",
    "gmm = GaussianMixture(n_components=n_buckets, random_state=42)\n",
    "gmm.fit(X)\n",
    "\n",
    "means = np.sort(gmm.means_.flatten())\n",
    "boundaries = np.concatenate([[0], (means[:-1] + means[1:]) / 2, [900]])\n",
    "\n",
    "print (boundaries)"
   ]
  },
  {
   "cell_type": "code",
   "execution_count": 15,
   "id": "dfd6a6d6-b231-4941-ad4f-0b24e7383edf",
   "metadata": {},
   "outputs": [
    {
     "name": "stdin",
     "output_type": "stream",
     "text": [
      "Enter FICO value:  500\n"
     ]
    },
    {
     "name": "stdout",
     "output_type": "stream",
     "text": [
      "6\n"
     ]
    }
   ],
   "source": [
    "value = float (input(f\"Enter FICO value: \"))\n",
    "\n",
    "for i in range(len(boundaries) - 1):\n",
    "    if boundaries[i] <= value < boundaries[i + 1]:\n",
    "        print(len(boundaries) - 1 - i)\n",
    "        break\n",
    "else:\n",
    "    print(\"Value is out of range!\")  # Handle case when value doesn't fit in any bucket\n",
    "      "
   ]
  },
  {
   "cell_type": "code",
   "execution_count": null,
   "id": "e05c1f1d-4a4e-4570-bc90-35ea1b8ecfbc",
   "metadata": {},
   "outputs": [],
   "source": []
  }
 ],
 "metadata": {
  "kernelspec": {
   "display_name": "Python [conda env:base] *",
   "language": "python",
   "name": "conda-base-py"
  },
  "language_info": {
   "codemirror_mode": {
    "name": "ipython",
    "version": 3
   },
   "file_extension": ".py",
   "mimetype": "text/x-python",
   "name": "python",
   "nbconvert_exporter": "python",
   "pygments_lexer": "ipython3",
   "version": "3.12.7"
  }
 },
 "nbformat": 4,
 "nbformat_minor": 5
}
